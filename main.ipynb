{
 "cells": [
  {
   "cell_type": "code",
   "execution_count": 1,
   "metadata": {},
   "outputs": [],
   "source": [
    "from pyspark.sql import SparkSession\n",
    "spark = SparkSession.builder.appName('Recommender System').getOrCreate()"
   ]
  },
  {
   "cell_type": "markdown",
   "metadata": {},
   "source": [
    "### Reading the Dataset"
   ]
  },
  {
   "cell_type": "code",
   "execution_count": 6,
   "metadata": {},
   "outputs": [
    {
     "name": "stdout",
     "output_type": "stream",
     "text": [
      "+------+------------+------+\n",
      "|userId|       title|rating|\n",
      "+------+------------+------+\n",
      "|   196|Kolya (1996)|     3|\n",
      "|    63|Kolya (1996)|     3|\n",
      "|   226|Kolya (1996)|     5|\n",
      "|   154|Kolya (1996)|     3|\n",
      "|   306|Kolya (1996)|     5|\n",
      "|   296|Kolya (1996)|     4|\n",
      "|    34|Kolya (1996)|     5|\n",
      "|   271|Kolya (1996)|     4|\n",
      "|   201|Kolya (1996)|     4|\n",
      "|   209|Kolya (1996)|     4|\n",
      "+------+------------+------+\n",
      "only showing top 10 rows\n",
      "\n"
     ]
    }
   ],
   "source": [
    "df = spark.read.csv('./static/movie_ratings_df.csv', inferSchema=True, header=True)\n",
    "df.show(10, True) # Pulls the fist ten rows of the dataset"
   ]
  },
  {
   "cell_type": "markdown",
   "metadata": {},
   "source": [
    "### Data size in terms of rows and records"
   ]
  },
  {
   "cell_type": "code",
   "execution_count": 3,
   "metadata": {},
   "outputs": [
    {
     "name": "stdout",
     "output_type": "stream",
     "text": [
      "(100000, 3)\n"
     ]
    }
   ],
   "source": [
    "print((df.count(), len(df.columns)))"
   ]
  },
  {
   "cell_type": "markdown",
   "metadata": {},
   "source": [
    "Our Dataset contains 100,000 records with only three columns"
   ]
  },
  {
   "cell_type": "markdown",
   "metadata": {},
   "source": [
    "Data Schema"
   ]
  },
  {
   "cell_type": "code",
   "execution_count": 4,
   "metadata": {},
   "outputs": [
    {
     "name": "stdout",
     "output_type": "stream",
     "text": [
      "root\n",
      " |-- userId: integer (nullable = true)\n",
      " |-- title: string (nullable = true)\n",
      " |-- rating: integer (nullable = true)\n",
      "\n"
     ]
    }
   ],
   "source": [
    "df.printSchema()"
   ]
  },
  {
   "cell_type": "markdown",
   "metadata": {},
   "source": [
    "#### Two of the columns are Numerical while title column is categorical"
   ]
  },
  {
   "cell_type": "markdown",
   "metadata": {},
   "source": [
    "#### Top users by number of moviers rated"
   ]
  },
  {
   "cell_type": "code",
   "execution_count": 10,
   "metadata": {},
   "outputs": [
    {
     "name": "stdout",
     "output_type": "stream",
     "text": [
      "+------+-----+\n",
      "|userId|count|\n",
      "+------+-----+\n",
      "|405   |737  |\n",
      "|655   |685  |\n",
      "|13    |636  |\n",
      "|450   |540  |\n",
      "|276   |518  |\n",
      "|416   |493  |\n",
      "|537   |490  |\n",
      "|303   |484  |\n",
      "|234   |480  |\n",
      "|393   |448  |\n",
      "+------+-----+\n",
      "only showing top 10 rows\n",
      "\n"
     ]
    }
   ],
   "source": [
    "df.groupBy('userId').count().orderBy('count', ascending=False).show(10, False)"
   ]
  },
  {
   "cell_type": "markdown",
   "metadata": {},
   "source": [
    "#### Bottom users by number of moviers rated"
   ]
  },
  {
   "cell_type": "code",
   "execution_count": 11,
   "metadata": {},
   "outputs": [
    {
     "name": "stdout",
     "output_type": "stream",
     "text": [
      "+------+-----+\n",
      "|userId|count|\n",
      "+------+-----+\n",
      "|732   |20   |\n",
      "|631   |20   |\n",
      "|572   |20   |\n",
      "|685   |20   |\n",
      "|93    |20   |\n",
      "|636   |20   |\n",
      "|34    |20   |\n",
      "|596   |20   |\n",
      "|926   |20   |\n",
      "|300   |20   |\n",
      "+------+-----+\n",
      "only showing top 10 rows\n",
      "\n"
     ]
    }
   ],
   "source": [
    "df.groupBy('userId').count().orderBy('count', ascending=True).show(10, False)"
   ]
  },
  {
   "cell_type": "markdown",
   "metadata": {},
   "source": [
    "## Feature Engineering"
   ]
  },
  {
   "cell_type": "code",
   "execution_count": 12,
   "metadata": {},
   "outputs": [],
   "source": [
    "from pyspark.sql.functions import *\n",
    "from pyspark.ml.feature import StringIndexer, IndexToString"
   ]
  },
  {
   "cell_type": "markdown",
   "metadata": {},
   "source": [
    "#### So now we create the stringindexer object by mentioning the input column and output column."
   ]
  },
  {
   "cell_type": "code",
   "execution_count": 17,
   "metadata": {},
   "outputs": [
    {
     "name": "stdout",
     "output_type": "stream",
     "text": [
      "+------+------------+------+---------+\n",
      "|userId|title       |rating|New_Title|\n",
      "+------+------------+------+---------+\n",
      "|196   |Kolya (1996)|3     |287.0    |\n",
      "|63    |Kolya (1996)|3     |287.0    |\n",
      "|226   |Kolya (1996)|5     |287.0    |\n",
      "|154   |Kolya (1996)|3     |287.0    |\n",
      "|306   |Kolya (1996)|5     |287.0    |\n",
      "|296   |Kolya (1996)|4     |287.0    |\n",
      "|34    |Kolya (1996)|5     |287.0    |\n",
      "|271   |Kolya (1996)|4     |287.0    |\n",
      "|201   |Kolya (1996)|4     |287.0    |\n",
      "|209   |Kolya (1996)|4     |287.0    |\n",
      "+------+------------+------+---------+\n",
      "only showing top 10 rows\n",
      "\n"
     ]
    }
   ],
   "source": [
    "stringIndexer = StringIndexer(inputCol='title',outputCol='New_Title')\n",
    "model = stringIndexer.fit(df)\n",
    "indexed = model.transform(df)\n",
    "indexed.show(10, False)"
   ]
  },
  {
   "cell_type": "code",
   "execution_count": 22,
   "metadata": {},
   "outputs": [
    {
     "name": "stdout",
     "output_type": "stream",
     "text": [
      "+-----------------------------+-----+\n",
      "|title                        |count|\n",
      "+-----------------------------+-----+\n",
      "|Star Wars (1977)             |583  |\n",
      "|Contact (1997)               |509  |\n",
      "|Fargo (1996)                 |508  |\n",
      "|Return of the Jedi (1983)    |507  |\n",
      "|Liar Liar (1997)             |485  |\n",
      "|English Patient, The (1996)  |481  |\n",
      "|Scream (1996)                |478  |\n",
      "|Toy Story (1995)             |452  |\n",
      "|Air Force One (1997)         |431  |\n",
      "|Independence Day (ID4) (1996)|429  |\n",
      "+-----------------------------+-----+\n",
      "only showing top 10 rows\n",
      "\n",
      "+---------+-----+\n",
      "|New_Title|count|\n",
      "+---------+-----+\n",
      "|0.0      |583  |\n",
      "|1.0      |509  |\n",
      "|2.0      |508  |\n",
      "|3.0      |507  |\n",
      "|4.0      |485  |\n",
      "|5.0      |481  |\n",
      "|6.0      |478  |\n",
      "|7.0      |452  |\n",
      "|8.0      |431  |\n",
      "|9.0      |429  |\n",
      "+---------+-----+\n",
      "only showing top 10 rows\n",
      "\n",
      "None None\n"
     ]
    }
   ],
   "source": [
    "print (df.groupBy('title').count().orderBy('count',ascending=False).show(10,False), indexed.groupBy('New_Title').count().orderBy('count',ascending=False).show(10,False))"
   ]
  },
  {
   "cell_type": "markdown",
   "metadata": {},
   "source": [
    "## Pliting The Data Set\n",
    "We split it into a 80 to 20 ratio to train the model and test its accuracy"
   ]
  },
  {
   "cell_type": "code",
   "execution_count": 38,
   "metadata": {},
   "outputs": [
    {
     "name": "stdout",
     "output_type": "stream",
     "text": [
      "Training set 80190\n",
      "Testing set 19810\n"
     ]
    }
   ],
   "source": [
    "train,test=indexed.randomSplit([0.8,0.2])\n",
    "print(\"Training set\", train.count())\n",
    "print(\"Testing set\", test.count())"
   ]
  },
  {
   "cell_type": "markdown",
   "metadata": {},
   "source": [
    "##  Building and Training the Model"
   ]
  },
  {
   "cell_type": "code",
   "execution_count": 36,
   "metadata": {},
   "outputs": [],
   "source": [
    "from pyspark.ml.recommendation import ALS\n",
    "rec=ALS(maxIter=10,regParam=0.01,userCol='userId',itemCol='New_Title',ratingCol='rating',nonnegative=True)\n",
    "rec_model = rec.fit(train)"
   ]
  },
  {
   "cell_type": "markdown",
   "metadata": {},
   "source": [
    "### Performance evaluation on our test data\n",
    "Here we will chack the performance of our model on unseen data."
   ]
  },
  {
   "cell_type": "code",
   "execution_count": 40,
   "metadata": {},
   "outputs": [
    {
     "name": "stdout",
     "output_type": "stream",
     "text": [
      "root\n",
      " |-- userId: integer (nullable = true)\n",
      " |-- title: string (nullable = true)\n",
      " |-- rating: integer (nullable = true)\n",
      " |-- New_Title: double (nullable = true)\n",
      " |-- prediction: float (nullable = true)\n",
      "\n"
     ]
    }
   ],
   "source": [
    "predict_ratings = rec_model.transform(test)\n",
    "predict_ratings.printSchema()"
   ]
  },
  {
   "cell_type": "code",
   "execution_count": 41,
   "metadata": {},
   "outputs": [
    {
     "name": "stdout",
     "output_type": "stream",
     "text": [
      "+------+--------------------+------+---------+----------+\n",
      "|userId|               title|rating|New_Title|prediction|\n",
      "+------+--------------------+------+---------+----------+\n",
      "|   458|That Thing You Do...|     3|    148.0| 2.7512252|\n",
      "|    53|That Thing You Do...|     3|    148.0| 3.4581232|\n",
      "|   193|That Thing You Do...|     4|    148.0| 4.0641327|\n",
      "|   223|That Thing You Do...|     4|    148.0| 3.1970763|\n",
      "|    93|That Thing You Do...|     4|    148.0| 4.9698334|\n",
      "|   152|That Thing You Do...|     3|    148.0| 4.1981716|\n",
      "|   896|That Thing You Do...|     3|    148.0| 2.7994106|\n",
      "|   280|That Thing You Do...|     3|    148.0| 4.1902285|\n",
      "|   692|That Thing You Do...|     3|    148.0| 3.2819183|\n",
      "|   432|That Thing You Do...|     4|    148.0| 3.2117474|\n",
      "+------+--------------------+------+---------+----------+\n",
      "only showing top 10 rows\n",
      "\n"
     ]
    }
   ],
   "source": [
    "predict_ratings.show(10)"
   ]
  },
  {
   "cell_type": "code",
   "execution_count": 46,
   "metadata": {},
   "outputs": [
    {
     "name": "stdout",
     "output_type": "stream",
     "text": [
      "nan\n"
     ]
    }
   ],
   "source": [
    "from pyspark.ml.evaluation import RegressionEvaluator\n",
    "evaluator = RegressionEvaluator(metricName = 'rmse', predictionCol = 'prediction', labelCol = 'rating')\n",
    "rmse = evaluator.evaluate(predict_ratings)\n",
    "print(rmse)"
   ]
  },
  {
   "cell_type": "markdown",
   "metadata": {},
   "source": [
    "##### The rmse is non we can equate this to zero meaning there is no error."
   ]
  },
  {
   "cell_type": "markdown",
   "metadata": {},
   "source": [
    "### Recommend Top Movies That Active User Might Like\n",
    "The first step is to create a list of unique movies in the dataframe."
   ]
  },
  {
   "cell_type": "code",
   "execution_count": 48,
   "metadata": {},
   "outputs": [
    {
     "data": {
      "text/plain": [
       "1664"
      ]
     },
     "execution_count": 48,
     "metadata": {},
     "output_type": "execute_result"
    }
   ],
   "source": [
    "unique_movies=indexed.select('New_Title').distinct()\n",
    "unique_movies.count() ## Total numbe rof individual movies in our new dataframe"
   ]
  },
  {
   "cell_type": "code",
   "execution_count": 55,
   "metadata": {},
   "outputs": [],
   "source": [
    "a = unique_movies.alias('a')"
   ]
  },
  {
   "cell_type": "markdown",
   "metadata": {},
   "source": [
    "#### We can select any user within the dataset for which we need to recommend other movies. In our case, we go ahead with userId = 96."
   ]
  },
  {
   "cell_type": "markdown",
   "metadata": {},
   "source": [
    "#### We will filter the movies that this active user has already rated or seen."
   ]
  },
  {
   "cell_type": "code",
   "execution_count": 59,
   "metadata": {},
   "outputs": [
    {
     "data": {
      "text/plain": [
       "56"
      ]
     },
     "execution_count": 59,
     "metadata": {},
     "output_type": "execute_result"
    }
   ],
   "source": [
    "user_id=96\n",
    "watched_movies=indexed.filter(indexed['userId'] == user_id).select('New_Title').distinct()\n",
    "watched_movies.count() # Number of movies the user has watched"
   ]
  },
  {
   "cell_type": "code",
   "execution_count": 60,
   "metadata": {},
   "outputs": [],
   "source": [
    "b=watched_movies.alias('b')"
   ]
  },
  {
   "cell_type": "markdown",
   "metadata": {},
   "source": [
    "#### So, there are total of 56 unique movies out of 1,664 movies that this active user has already rated. So, we would want to recommend movies from the remaining 1608 movies."
   ]
  },
  {
   "cell_type": "code",
   "execution_count": 64,
   "metadata": {},
   "outputs": [
    {
     "name": "stdout",
     "output_type": "stream",
     "text": [
      "+---------+---------+\n",
      "|New_Title|New_Title|\n",
      "+---------+---------+\n",
      "|    558.0|     null|\n",
      "|    305.0|     null|\n",
      "|    299.0|     null|\n",
      "|    596.0|     null|\n",
      "|    769.0|     null|\n",
      "|    934.0|     null|\n",
      "|    496.0|     null|\n",
      "|   1051.0|     null|\n",
      "|    692.0|     null|\n",
      "|    810.0|     null|\n",
      "|    720.0|     null|\n",
      "|    782.0|     null|\n",
      "|    184.0|     null|\n",
      "|    147.0|     null|\n",
      "|    576.0|     null|\n",
      "|    170.0|     null|\n",
      "|   1369.0|     null|\n",
      "|   1587.0|     null|\n",
      "|    169.0|     null|\n",
      "|    608.0|     null|\n",
      "+---------+---------+\n",
      "only showing top 20 rows\n",
      "\n"
     ]
    }
   ],
   "source": [
    "total_movies = a.join(b, a.New_Title == b.New_Title,how='left')\n",
    "total_movies.show()"
   ]
  },
  {
   "cell_type": "code",
   "execution_count": 67,
   "metadata": {},
   "outputs": [
    {
     "data": {
      "text/plain": [
       "1608"
      ]
     },
     "execution_count": 67,
     "metadata": {},
     "output_type": "execute_result"
    }
   ],
   "source": [
    "remaining_movies=total_movies.where(col(\"b.New_Title\").isNull()).select(a.New_Title).distinct()\n",
    "remaining_movies.count()"
   ]
  },
  {
   "cell_type": "code",
   "execution_count": 71,
   "metadata": {},
   "outputs": [
    {
     "name": "stdout",
     "output_type": "stream",
     "text": [
      "+---------+------+\n",
      "|New_Title|userId|\n",
      "+---------+------+\n",
      "|558.0    |96    |\n",
      "|305.0    |96    |\n",
      "|299.0    |96    |\n",
      "|596.0    |96    |\n",
      "|769.0    |96    |\n",
      "|934.0    |96    |\n",
      "|496.0    |96    |\n",
      "|1051.0   |96    |\n",
      "|692.0    |96    |\n",
      "|810.0    |96    |\n",
      "+---------+------+\n",
      "only showing top 10 rows\n",
      "\n"
     ]
    }
   ],
   "source": [
    "remaining_movies=remaining_movies.withColumn(\"userId\",lit(int(user_id)))\n",
    "remaining_movies.show(10, False)"
   ]
  },
  {
   "cell_type": "markdown",
   "metadata": {},
   "source": [
    "### Finally, we can now make the predictions on this remaining movie’s dataset for the active user using the recommender model that we built earlier. We filter only a few top recommendations that have the highest predicted ratings."
   ]
  },
  {
   "cell_type": "code",
   "execution_count": 73,
   "metadata": {},
   "outputs": [
    {
     "name": "stdout",
     "output_type": "stream",
     "text": [
      "+---------+------+----------+\n",
      "|New_Title|userId|prediction|\n",
      "+---------+------+----------+\n",
      "|1652.0   |96    |NaN       |\n",
      "|1540.0   |96    |NaN       |\n",
      "|1597.0   |96    |NaN       |\n",
      "|1547.0   |96    |NaN       |\n",
      "|1632.0   |96    |NaN       |\n",
      "|1556.0   |96    |NaN       |\n",
      "|1646.0   |96    |NaN       |\n",
      "|1623.0   |96    |NaN       |\n",
      "|1601.0   |96    |NaN       |\n",
      "|1658.0   |96    |NaN       |\n",
      "|1522.0   |96    |NaN       |\n",
      "|1577.0   |96    |NaN       |\n",
      "|1570.0   |96    |NaN       |\n",
      "|1586.0   |96    |NaN       |\n",
      "|1616.0   |96    |NaN       |\n",
      "|1606.0   |96    |NaN       |\n",
      "|1534.0   |96    |NaN       |\n",
      "|1611.0   |96    |NaN       |\n",
      "|1536.0   |96    |NaN       |\n",
      "|1618.0   |96    |NaN       |\n",
      "|1346.0   |96    |9.69666   |\n",
      "|1188.0   |96    |8.464907  |\n",
      "|1301.0   |96    |8.186031  |\n",
      "|826.0    |96    |7.5327663 |\n",
      "|804.0    |96    |7.235327  |\n",
      "|1343.0   |96    |7.1318555 |\n",
      "|837.0    |96    |7.0773735 |\n",
      "|986.0    |96    |7.0262904 |\n",
      "|869.0    |96    |6.985313  |\n",
      "|1154.0   |96    |6.9561777 |\n",
      "|680.0    |96    |6.833312  |\n",
      "|696.0    |96    |6.8063664 |\n",
      "|504.0    |96    |6.79223   |\n",
      "|1088.0   |96    |6.723361  |\n",
      "|1271.0   |96    |6.685209  |\n",
      "|1521.0   |96    |6.6642365 |\n",
      "|1250.0   |96    |6.628944  |\n",
      "|1225.0   |96    |6.6174607 |\n",
      "|1204.0   |96    |6.5894537 |\n",
      "|1417.0   |96    |6.5758963 |\n",
      "|172.0    |96    |6.507082  |\n",
      "|888.0    |96    |6.4924355 |\n",
      "|1316.0   |96    |6.397137  |\n",
      "|1397.0   |96    |6.38214   |\n",
      "|1499.0   |96    |6.358963  |\n",
      "|552.0    |96    |6.3475866 |\n",
      "|898.0    |96    |6.3454957 |\n",
      "|1071.0   |96    |6.331934  |\n",
      "|963.0    |96    |6.316641  |\n",
      "|1123.0   |96    |6.3122506 |\n",
      "|1358.0   |96    |6.2922974 |\n",
      "|870.0    |96    |6.234918  |\n",
      "|539.0    |96    |6.2321725 |\n",
      "|848.0    |96    |6.143847  |\n",
      "|960.0    |96    |6.1156764 |\n",
      "|1018.0   |96    |6.111468  |\n",
      "|1151.0   |96    |6.0948563 |\n",
      "|1433.0   |96    |6.0510097 |\n",
      "|1434.0   |96    |6.050393  |\n",
      "|164.0    |96    |6.049418  |\n",
      "|400.0    |96    |6.0449743 |\n",
      "|756.0    |96    |6.011264  |\n",
      "|1023.0   |96    |5.9597282 |\n",
      "|1470.0   |96    |5.9464436 |\n",
      "|1296.0   |96    |5.942107  |\n",
      "|604.0    |96    |5.94125   |\n",
      "|482.0    |96    |5.9256296 |\n",
      "|1282.0   |96    |5.914728  |\n",
      "|1127.0   |96    |5.9118295 |\n",
      "|1099.0   |96    |5.897098  |\n",
      "|927.0    |96    |5.877729  |\n",
      "|1475.0   |96    |5.862785  |\n",
      "|1199.0   |96    |5.8602505 |\n",
      "|777.0    |96    |5.8533754 |\n",
      "|1092.0   |96    |5.8391953 |\n",
      "|1194.0   |96    |5.828532  |\n",
      "|981.0    |96    |5.817236  |\n",
      "|1468.0   |96    |5.795143  |\n",
      "|291.0    |96    |5.794125  |\n",
      "|1161.0   |96    |5.7930994 |\n",
      "|1598.0   |96    |5.7623434 |\n",
      "|1642.0   |96    |5.7623434 |\n",
      "|1501.0   |96    |5.7623434 |\n",
      "|1210.0   |96    |5.7556586 |\n",
      "|1138.0   |96    |5.7418313 |\n",
      "|1239.0   |96    |5.736245  |\n",
      "|115.0    |96    |5.722391  |\n",
      "|811.0    |96    |5.7099166 |\n",
      "|446.0    |96    |5.682933  |\n",
      "|1284.0   |96    |5.6734853 |\n",
      "|562.0    |96    |5.672632  |\n",
      "|1098.0   |96    |5.655449  |\n",
      "|1059.0   |96    |5.6547627 |\n",
      "|490.0    |96    |5.6467247 |\n",
      "|1233.0   |96    |5.638416  |\n",
      "|1109.0   |96    |5.636623  |\n",
      "|1265.0   |96    |5.6212435 |\n",
      "|797.0    |96    |5.613907  |\n",
      "|1410.0   |96    |5.606052  |\n",
      "|462.0    |96    |5.6005483 |\n",
      "+---------+------+----------+\n",
      "only showing top 100 rows\n",
      "\n"
     ]
    }
   ],
   "source": [
    "recommendations = rec_model.transform(remaining_movies).orderBy('prediction', ascending = False)\n",
    "recommendations.show(100, False)"
   ]
  },
  {
   "cell_type": "markdown",
   "metadata": {},
   "source": [
    "### Let us add the movie title to the recommendations"
   ]
  },
  {
   "cell_type": "code",
   "execution_count": 75,
   "metadata": {},
   "outputs": [
    {
     "name": "stdout",
     "output_type": "stream",
     "text": [
      "+---------+------+----------+---------------------------------------------------------+\n",
      "|New_Title|userId|prediction|title                                                    |\n",
      "+---------+------+----------+---------------------------------------------------------+\n",
      "|1547.0   |96    |NaN       |Baton Rouge (1988)                                       |\n",
      "|1597.0   |96    |NaN       |Etz Hadomim Tafus (Under the Domin Tree) (1994)          |\n",
      "|1556.0   |96    |NaN       |Mirage (1995)                                            |\n",
      "|1646.0   |96    |NaN       |Shadows (Cienie) (1988)                                  |\n",
      "|1601.0   |96    |NaN       |Normal Life (1996)                                       |\n",
      "|1632.0   |96    |NaN       |Death in Brunswick (1991)                                |\n",
      "|1652.0   |96    |NaN       |Big One, The (1997)                                      |\n",
      "|1658.0   |96    |NaN       |� k�ldum klaka (Cold Fever) (1994)                       |\n",
      "|1606.0   |96    |NaN       |Killer: A Journal of Murder (1995)                       |\n",
      "|1570.0   |96    |NaN       |Police Story 4: Project S (Chao ji ji hua) (1993)        |\n",
      "|1586.0   |96    |NaN       |Nothing Personal (1995)                                  |\n",
      "|1536.0   |96    |NaN       |Mille bolle blu (1993)                                   |\n",
      "|1623.0   |96    |NaN       |Century (1993)                                           |\n",
      "|1611.0   |96    |NaN       |Getting Away With Murder (1996)                          |\n",
      "|1618.0   |96    |NaN       |Butterfly Kiss (1995)                                    |\n",
      "|1577.0   |96    |NaN       |Modern Affair, A (1995)                                  |\n",
      "|1616.0   |96    |NaN       |Other Voices, Other Rooms (1997)                         |\n",
      "|1534.0   |96    |NaN       |I Don't Want to Talk About It (De eso no se habla) (1993)|\n",
      "|1540.0   |96    |NaN       |Window to Paris (1994)                                   |\n",
      "|1522.0   |96    |NaN       |Spirits of the Dead (Tre passi nel delirio) (1968)       |\n",
      "|1346.0   |96    |9.69666   |8 Heads in a Duffel Bag (1997)                           |\n",
      "|1188.0   |96    |8.464907  |Grace of My Heart (1996)                                 |\n",
      "|1301.0   |96    |8.186031  |Panther (1995)                                           |\n",
      "|826.0    |96    |7.5327663 |Vanya on 42nd Street (1994)                              |\n",
      "|804.0    |96    |7.235327  |Beautiful Thing (1996)                                   |\n",
      "|1343.0   |96    |7.1318555 |So Dear to My Heart (1949)                               |\n",
      "|837.0    |96    |7.0773735 |Love! Valour! Compassion! (1997)                         |\n",
      "|986.0    |96    |7.0262904 |Balto (1995)                                             |\n",
      "|869.0    |96    |6.985313  |Burnt By the Sun (1994)                                  |\n",
      "|1154.0   |96    |6.9561777 |unknown                                                  |\n",
      "|680.0    |96    |6.833312  |Freeway (1996)                                           |\n",
      "|696.0    |96    |6.8063664 |Priest (1994)                                            |\n",
      "|504.0    |96    |6.79223   |Deconstructing Harry (1997)                              |\n",
      "|1088.0   |96    |6.723361  |Dear God (1996)                                          |\n",
      "|1271.0   |96    |6.685209  |Whole Wide World, The (1996)                             |\n",
      "|1521.0   |96    |6.6642365 |Little City (1998)                                       |\n",
      "|1250.0   |96    |6.628944  |Purple Noon (1960)                                       |\n",
      "|1225.0   |96    |6.6174607 |Paradise Road (1997)                                     |\n",
      "|1204.0   |96    |6.5894537 |A Chef in Love (1996)                                    |\n",
      "|1417.0   |96    |6.5758963 |Frisk (1995)                                             |\n",
      "|172.0    |96    |6.507082  |Everyone Says I Love You (1996)                          |\n",
      "|888.0    |96    |6.4924355 |Live Nude Girls (1995)                                   |\n",
      "|1316.0   |96    |6.397137  |Boys Life (1995)                                         |\n",
      "|1397.0   |96    |6.38214   |Head Above Water (1996)                                  |\n",
      "|1499.0   |96    |6.358963  |Everest (1998)                                           |\n",
      "|552.0    |96    |6.3475866 |Postman, The (1997)                                      |\n",
      "|898.0    |96    |6.3454957 |Unstrung Heroes (1995)                                   |\n",
      "|1071.0   |96    |6.331934  |Stalingrad (1993)                                        |\n",
      "|963.0    |96    |6.316641  |Picnic (1955)                                            |\n",
      "|1123.0   |96    |6.3122506 |Picture Bride (1995)                                     |\n",
      "|1358.0   |96    |6.2922974 |Angel Baby (1995)                                        |\n",
      "|870.0    |96    |6.234918  |Microcosmos: Le peuple de l'herbe (1996)                 |\n",
      "|539.0    |96    |6.2321725 |Soul Food (1997)                                         |\n",
      "|848.0    |96    |6.143847  |Ninotchka (1939)                                         |\n",
      "|960.0    |96    |6.1156764 |Beyond Rangoon (1995)                                    |\n",
      "|1018.0   |96    |6.111468  |Bye Bye, Love (1995)                                     |\n",
      "|1151.0   |96    |6.0948563 |Month by the Lake, A (1995)                              |\n",
      "|1433.0   |96    |6.0510097 |Boys, Les (1997)                                         |\n",
      "|1434.0   |96    |6.050393  |Joy Luck Club, The (1993)                                |\n",
      "|164.0    |96    |6.049418  |Big Night (1996)                                         |\n",
      "|400.0    |96    |6.0449743 |Three Colors: Red (1994)                                 |\n",
      "|756.0    |96    |6.011264  |Orlando (1993)                                           |\n",
      "|1023.0   |96    |5.9597282 |Gay Divorcee, The (1934)                                 |\n",
      "|1470.0   |96    |5.9464436 |Some Mother's Son (1996)                                 |\n",
      "|1296.0   |96    |5.942107  |Stonewall (1995)                                         |\n",
      "|604.0    |96    |5.94125   |Menace II Society (1993)                                 |\n",
      "|482.0    |96    |5.9256296 |Wallace & Gromit: The Best of Aardman Animation (1996)   |\n",
      "|1282.0   |96    |5.914728  |Nina Takes a Lover (1994)                                |\n",
      "|1127.0   |96    |5.9118295 |Wonderful, Horrible Life of Leni Riefenstahl, The (1993) |\n",
      "|1099.0   |96    |5.897098  |Unzipped (1995)                                          |\n",
      "|927.0    |96    |5.877729  |Goofy Movie, A (1995)                                    |\n",
      "|1475.0   |96    |5.862785  |American Dream (1990)                                    |\n",
      "|1199.0   |96    |5.8602505 |Hear My Song (1991)                                      |\n",
      "|777.0    |96    |5.8533754 |Night Falls on Manhattan (1997)                          |\n",
      "|1092.0   |96    |5.8391953 |Davy Crockett, King of the Wild Frontier (1955)          |\n",
      "|1194.0   |96    |5.828532  |Bhaji on the Beach (1993)                                |\n",
      "|981.0    |96    |5.817236  |Big Blue, The (Grand bleu, Le) (1988)                    |\n",
      "|1468.0   |96    |5.795143  |Anna (1996)                                              |\n",
      "|291.0    |96    |5.794125  |Being There (1979)                                       |\n",
      "|1161.0   |96    |5.7930994 |True Crime (1995)                                        |\n",
      "|1598.0   |96    |5.7623434 |Spanish Prisoner, The (1997)                             |\n",
      "|1501.0   |96    |5.7623434 |Butcher Boy, The (1998)                                  |\n",
      "|1642.0   |96    |5.7623434 |Brothers in Trouble (1995)                               |\n",
      "|1210.0   |96    |5.7556586 |Faster Pussycat! Kill! Kill! (1965)                      |\n",
      "|1138.0   |96    |5.7418313 |Warriors of Virtue (1997)                                |\n",
      "|1239.0   |96    |5.736245  |Swept from the Sea (1997)                                |\n",
      "|115.0    |96    |5.722391  |Boot, Das (1981)                                         |\n",
      "|811.0    |96    |5.7099166 |Barbarella (1968)                                        |\n",
      "|446.0    |96    |5.682933  |Hoodlum (1997)                                           |\n",
      "|1284.0   |96    |5.6734853 |N�nette et Boni (1996)                                   |\n",
      "|562.0    |96    |5.672632  |Wings of Desire (1987)                                   |\n",
      "|1098.0   |96    |5.655449  |Wild Things (1998)                                       |\n",
      "|1059.0   |96    |5.6547627 |Safe (1995)                                              |\n",
      "|490.0    |96    |5.6467247 |Cyrano de Bergerac (1990)                                |\n",
      "|1233.0   |96    |5.638416  |Man of No Importance, A (1994)                           |\n",
      "|1109.0   |96    |5.636623  |American Buffalo (1996)                                  |\n",
      "|1265.0   |96    |5.6212435 |World of Apu, The (Apur Sansar) (1959)                   |\n",
      "|797.0    |96    |5.613907  |FairyTale: A True Story (1997)                           |\n",
      "|1410.0   |96    |5.606052  |C�r�monie, La (1995)                                     |\n",
      "|462.0    |96    |5.6005483 |Ran (1985)                                               |\n",
      "+---------+------+----------+---------------------------------------------------------+\n",
      "only showing top 100 rows\n",
      "\n"
     ]
    }
   ],
   "source": [
    "movie_title = IndexToString(inputCol=\"New_Title\",outputCol=\"title\",labels=model.labels)\n",
    "final_recommendations=movie_title.transform(recommendations)\n",
    "final_recommendations.show(100,False)"
   ]
  },
  {
   "cell_type": "markdown",
   "metadata": {},
   "source": [
    "### Thats it guys\n",
    "### A simple collaborative filtering based recommender system in PySpark using the ALS method to recommend movies to the users\n",
    "\n",
    "### Bye"
   ]
  },
  {
   "cell_type": "code",
   "execution_count": null,
   "metadata": {},
   "outputs": [],
   "source": []
  }
 ],
 "metadata": {
  "kernelspec": {
   "display_name": "Python 3",
   "language": "python",
   "name": "python3"
  },
  "language_info": {
   "codemirror_mode": {
    "name": "ipython",
    "version": 3
   },
   "file_extension": ".py",
   "mimetype": "text/x-python",
   "name": "python",
   "nbconvert_exporter": "python",
   "pygments_lexer": "ipython3",
   "version": "3.5.2"
  }
 },
 "nbformat": 4,
 "nbformat_minor": 2
}
